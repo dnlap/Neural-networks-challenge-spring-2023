{
  "cells": [
    {
      "cell_type": "code",
      "execution_count": 1,
      "metadata": {},
      "outputs": [],
      "source": [
        "import numpy as np\n",
        "import pandas as pd\n",
        "from imblearn.over_sampling import SMOTE"
      ]
    },
    {
      "cell_type": "code",
      "execution_count": 2,
      "metadata": {
        "id": "kpjpLygU6gsy"
      },
      "outputs": [],
      "source": [
        "df = pd.read_csv(r\"C:\\Users\\kuban\\OneDrive\\Desktop\\6 semestr - Erasmus\\Neural Networks\\neural-networks-challenge-spring-2023 (1)\\Train_set.csv\")\n",
        "df.fillna(0, inplace = True)\n",
        "ids = df['ID']\n",
        "y = df['Class']\n",
        "y = np.array(y)\n",
        "X = df.drop(['ID', 'Class'], axis=1)\n",
        "X = np.array(X)\n",
        "\n",
        "# Linearly expand\n",
        "def expand_linear(time_series):\n",
        "  left = 0\n",
        "  right = 0\n",
        "  for k in range(1, len(time_series)):\n",
        "    if time_series[k] == 0:\n",
        "      left = time_series[k-1]\n",
        "      l = 0\n",
        "      while time_series[k+l] == 0:\n",
        "        l+=1\n",
        "        if len(time_series) == k+l:\n",
        "          return time_series\n",
        "      right = time_series[k+l]\n",
        "      time_series[k: k+l] = np.linspace(left, right, num=l+2)[1:(l+1)]\n",
        "  return time_series\n",
        "\n",
        "\n",
        "\n",
        "  # Scale but no 0s\n",
        "nonX = X.reshape(-1)\n",
        "nonX = nonX[nonX!=0]\n",
        "mean = np.mean(nonX)\n",
        "std = np.std(nonX)\n",
        "for r in range(X.shape[0]):\n",
        "  for c in range(X.shape[1]):\n",
        "    if X[r,c] != 0:\n",
        "      X[r,c] -= mean\n",
        "X = X/std\n",
        "\n",
        "for k in range(X.shape[0]):\n",
        "  expand_linear(X[k,:])\n",
        "\n",
        "# X is the data after preprocessing in a numpy array"
      ]
    },
    {
      "cell_type": "code",
      "execution_count": 5,
      "metadata": {},
      "outputs": [
        {
          "data": {
            "text/plain": [
              "0.22667829935749878"
            ]
          },
          "execution_count": 5,
          "metadata": {},
          "output_type": "execute_result"
        }
      ],
      "source": [
        "#if you want to use validation set\n",
        "#X, X_val, y, y_val = train_test_split(X, y, test_size=0.10)"
      ]
    },
    {
      "cell_type": "code",
      "execution_count": 3,
      "metadata": {},
      "outputs": [],
      "source": [
        "ros = SMOTE(sampling_strategy= {0:72471, 1:8000, 2:16000, 3:3000, 4:16000 })\n",
        "Xs, ys = ros.fit_resample(X,y)"
      ]
    },
    {
      "cell_type": "code",
      "execution_count": 8,
      "metadata": {
        "id": "866kv02l-tJ-"
      },
      "outputs": [],
      "source": [
        "# Save validation too\n",
        "np.savetxt(r\"C:\\Users\\kuban\\OneDrive\\Desktop\\6 semestr - Erasmus\\Neural Networks\\neural-networks-challenge-spring-2023 (1)\\X_big\", Xs)\n",
        "np.savetxt(r\"C:\\Users\\kuban\\OneDrive\\Desktop\\6 semestr - Erasmus\\Neural Networks\\neural-networks-challenge-spring-2023 (1)\\y_big\", ys)"
      ]
    }
  ],
  "metadata": {
    "colab": {
      "provenance": []
    },
    "kernelspec": {
      "display_name": "Python 3",
      "name": "python3"
    },
    "language_info": {
      "codemirror_mode": {
        "name": "ipython",
        "version": 3
      },
      "file_extension": ".py",
      "mimetype": "text/x-python",
      "name": "python",
      "nbconvert_exporter": "python",
      "pygments_lexer": "ipython3",
      "version": "3.9.4"
    }
  },
  "nbformat": 4,
  "nbformat_minor": 0
}
