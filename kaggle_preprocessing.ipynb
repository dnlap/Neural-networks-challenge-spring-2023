{
  "nbformat": 4,
  "nbformat_minor": 0,
  "metadata": {
    "colab": {
      "provenance": []
    },
    "kernelspec": {
      "name": "python3",
      "display_name": "Python 3"
    },
    "language_info": {
      "name": "python"
    }
  },
  "cells": [
    {
      "cell_type": "code",
      "execution_count": 2,
      "metadata": {
        "id": "kpjpLygU6gsy"
      },
      "outputs": [],
      "source": [
        "df = pd.read_csv('Train_set.csv')\n",
        "df.fillna(0, inplace = True)\n",
        "ids = df['ID']\n",
        "y = df['Class']\n",
        "y = np.array(y)\n",
        "X = df.drop(['ID', 'Class'], axis=1)\n",
        "X = np.array(X)\n",
        "\n",
        "# Linearly expand\n",
        "def expand_linear(time_series):\n",
        "  left = 0\n",
        "  right = 0\n",
        "  for k in range(1, len(time_series)):\n",
        "    if time_series[k] == 0:\n",
        "      left = time_series[k-1]\n",
        "      l = 0\n",
        "      while time_series[k+l] == 0:\n",
        "        l+=1\n",
        "        if len(time_series) == k+l:\n",
        "          return time_series\n",
        "      right = time_series[k+l]\n",
        "      time_series[k: k+l] = np.linspace(left, right, num=l+2)[1:(l+1)]\n",
        "  return time_series\n",
        "\n",
        "\n",
        "\n",
        "  # Scale but no 0s\n",
        "nonX = X.reshape(-1)\n",
        "nonX = nonX[nonX!=0]\n",
        "mean = np.mean(nonX)\n",
        "std = np.std(nonX)\n",
        "for r in range(X.shape[0]):\n",
        "  for c in range(X.shape[1]):\n",
        "    if X[r,c] != 0:\n",
        "      X[r,c] -= mean\n",
        "X = X/std\n",
        "\n",
        "for k in range(X.shape[0]):\n",
        "  expand_linear(X[k,:])\n",
        "\n",
        "# X is the data after preprocessing in a numpy array"
      ]
    },
    {
      "cell_type": "code",
      "source": [
        "# Same for X_test"
      ],
      "metadata": {
        "id": "866kv02l-tJ-"
      },
      "execution_count": null,
      "outputs": []
    },
    {
      "cell_type": "code",
      "source": [
        "df2 = pd.read_csv('Test_set.csv')\n",
        "df2.fillna(0, inplace = True)\n",
        "ids = df2['ID']\n",
        "X_test = df2.drop(['ID'], axis=1)\n",
        "X_test = np.array(X_test)\n",
        "\n",
        "# Linearly expand\n",
        "def expand_linear(time_series):\n",
        "  left = 0\n",
        "  right = 0\n",
        "  for k in range(1, len(time_series)):\n",
        "    if time_series[k] == 0:\n",
        "      left = time_series[k-1]\n",
        "      l = 0\n",
        "      while time_series[k+l] == 0:\n",
        "        l+=1\n",
        "        if len(time_series) == k+l:\n",
        "          return time_series\n",
        "      right = time_series[k+l]\n",
        "      time_series[k: k+l] = np.linspace(left, right, num=l+2)[1:(l+1)]\n",
        "  return time_series\n",
        "\n",
        "\n",
        "\n",
        "  # Scale but no 0s\n",
        "nonX_test = X_test.reshape(-1)\n",
        "nonX_test = nonX_test[nonX_test!=0]\n",
        "mean = np.mean(nonX_test)\n",
        "std = np.std(nonX_test)\n",
        "for r in range(X_test.shape[0]):\n",
        "  for c in range(X_test.shape[1]):\n",
        "    if X_test[r,c] != 0:\n",
        "      X_test[r,c] -= mean\n",
        "X_test = X_test/std\n",
        "\n",
        "for k in range(X_test.shape[0]):\n",
        "  expand_linear(X_test[k,:])\n",
        "\n",
        "# X_test is the data after preprocessing in a numpy array"
      ],
      "metadata": {
        "id": "GYyMZnpz-uvJ"
      },
      "execution_count": 31,
      "outputs": []
    }
  ]
}